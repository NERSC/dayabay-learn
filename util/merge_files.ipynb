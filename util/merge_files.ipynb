{
 "cells": [
  {
   "cell_type": "code",
   "execution_count": null,
   "metadata": {
    "collapsed": true
   },
   "outputs": [],
   "source": [
    "import h5py\n",
    "\n",
    "import os\n",
    "path_prefix=\"/global/homes/s/skohn/ml/dayabay-data-conversion/extract_ibd\"\n",
    "h5files = [path for path in os.listdir(path_prefix) if \"ibd_yasu\" in path]\n",
    "\n",
    "def comp_fnames(p1,p2):\n",
    "    n1,n2 = map(lambda x: int(x.split('_')[2]),[p1,p2])\n",
    "    if n1 > n2:\n",
    "        ret = 1\n",
    "    elif n2 > n1:\n",
    "        ret = -1\n",
    "    else:\n",
    "        ret = 0\n",
    "    return ret\n",
    "        \n",
    "    \n",
    "    \n",
    "h5files.sort(cmp=comp_fnames)\n",
    "\n",
    "h5paths = [os.path.join(path_prefix, h5file) for h5file in h5files]\n",
    "\n",
    "\n",
    "for h5path in h5paths:\n",
    "    assert os.path.exists(h5path)\n",
    "\n",
    "master_file = h5py.File('/project/projectdirs/dasrepo/ibd_pairs/all_pairs.h5')\n",
    "\n",
    "sample_h5file = h5py.File(h5paths[0])\n",
    "key = sample_h5file.keys()[0]\n",
    "cols = sample_h5file[key].shape[1]\n",
    "rows = sum([h5py.File(h5path)[key].shape[0] for h5path in h5paths])  \n",
    "dtype = sample_h5file[key].dtype\n",
    "\n",
    "print dtype\n",
    "\n",
    "master_dataset = master_file.create_dataset(name=key, shape=(rows,cols), dtype=dtype)\n",
    "\n",
    "\n",
    "\n",
    "for i, h5path in enumerate(h5paths):\n",
    "    #print h5path\n",
    "    #print i *10000, (i+1)*10000\n",
    "    h5d = h5py.File(h5path)[key]\n",
    "    master_dataset[i *10000 :(i+1)*10000] = h5d\n",
    "\n",
    "master_dataset\n",
    "\n",
    "import numpy as np\n",
    "#master_dataset[]\n",
    "\n",
    "#inds = np.random.randint(0,1000000,1000)\n",
    "low = 0\n",
    "high  =10000\n",
    "\n",
    "\n",
    "np.all(np.equal(master_dataset[low:high], h5py.File(h5paths[0])[key][low:high]))\n",
    "\n",
    "\n",
    "\n",
    "master_file.close()"
   ]
  }
 ],
 "metadata": {
  "kernelspec": {
   "display_name": "Python 2",
   "language": "python",
   "name": "python2"
  },
  "language_info": {
   "codemirror_mode": {
    "name": "ipython",
    "version": 2
   },
   "file_extension": ".py",
   "mimetype": "text/x-python",
   "name": "python",
   "nbconvert_exporter": "python",
   "pygments_lexer": "ipython2",
   "version": "2.7.11"
  }
 },
 "nbformat": 4,
 "nbformat_minor": 0
}

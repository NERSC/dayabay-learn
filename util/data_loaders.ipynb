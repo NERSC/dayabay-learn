{
 "cells": [
  {
   "cell_type": "code",
   "execution_count": 83,
   "metadata": {
    "collapsed": false
   },
   "outputs": [],
   "source": [
    "# Evan Racah\n",
    "import h5py\n",
    "from sklearn.preprocessing import StandardScaler\n",
    "import numpy as np\n",
    "import pickle\n",
    "import glob\n",
    "import os\n",
    "from helper_fxns import center, scale\n",
    "from operator import mul\n",
    "\n",
    "def load_ibd_pairs(path, train_frac=0.5, valid_frac=0.25, tot_num_pairs=-1):\n",
    "    '''Load up the hdf5 file given into a set of numpy arrays suitable for\n",
    "    convnets.\n",
    "\n",
    "    The output is a tuple of (train, valid, test). Each set has shape\n",
    "    (n_pairs, nchannels, xsize, ysize) where\n",
    "        (nchannels, xsize, ysize) = (4, 8, 24).\n",
    "\n",
    "    The relative size of each set can be specified in the arguments.'''\n",
    "    h5file = h5py.File(path, 'r')\n",
    "    h5set = h5file['ibd_pair_data']\n",
    "    \n",
    "    if tot_num_pairs == -1:\n",
    "        npairs = h5set.shape[0]\n",
    "    else:\n",
    "        npairs = tot_num_pairs\n",
    "    ntrain = int(train_frac * npairs)\n",
    "    nvalid = int(valid_frac * npairs)\n",
    "    ntest = npairs - ntrain - nvalid\n",
    "\n",
    "    train = np.asarray(h5set[:ntrain])\n",
    "    valid = np.asarray(h5set[ntrain:(ntrain + nvalid)])\n",
    "    test = np.asarray(h5set[(ntrain + nvalid):(ntrain + nvalid + ntest)])\n",
    "\n",
    "    imageshape = (4, 8, 24)\n",
    "    nfeatures = reduce(mul, imageshape)\n",
    "    # Don't use all of the array since it contains the metadata as well as the\n",
    "    # pixels\n",
    "    train = train[:, :nfeatures].reshape(ntrain, *imageshape)\n",
    "    valid = valid[:, :nfeatures].reshape(nvalid, *imageshape)\n",
    "    test = test[:, :nfeatures].reshape(ntest, *imageshape)\n",
    "\n",
    "    return (train, valid, test)\n",
    "\n",
    "\n",
    "def get_ibd_data(path_prefix=\"/project/projectdirs/dasrepo/ibd_pairs\", mode='standardize',\n",
    "                tot_num_pairs=-1):\n",
    "    \n",
    "    h5filename = \"all_pairs.h5\"\n",
    "    train, val, test = load_ibd_pairs(path=os.path.join(path_prefix, h5filename), tot_num_pairs=tot_num_pairs)\n",
    "    center(train)\n",
    "    center(val)\n",
    "    center(test)\n",
    "    scale(train, 1, mode=mode)\n",
    "    scale(val, 1, mode=mode)\n",
    "    scale(test, 1, mode=mode)\n",
    "    \n",
    "    return train, val, test"
   ]
  },
  {
   "cell_type": "code",
   "execution_count": 87,
   "metadata": {
    "collapsed": false
   },
   "outputs": [],
   "source": [
    "a,b,c = get_ibd_data(tot_num_pairs=1000)"
   ]
  },
  {
   "cell_type": "code",
   "execution_count": 90,
   "metadata": {
    "collapsed": false
   },
   "outputs": [
    {
     "data": {
      "text/plain": [
       "(250, 4, 8, 24)"
      ]
     },
     "execution_count": 90,
     "metadata": {},
     "output_type": "execute_result"
    }
   ],
   "source": [
    "c.shape"
   ]
  },
  {
   "cell_type": "code",
   "execution_count": null,
   "metadata": {
    "collapsed": true
   },
   "outputs": [],
   "source": []
  }
 ],
 "metadata": {
  "kernelspec": {
   "display_name": "Python 2",
   "language": "python",
   "name": "python2"
  },
  "language_info": {
   "codemirror_mode": {
    "name": "ipython",
    "version": 2
   },
   "file_extension": ".py",
   "mimetype": "text/x-python",
   "name": "python",
   "nbconvert_exporter": "python",
   "pygments_lexer": "ipython2",
   "version": "2.7.11"
  }
 },
 "nbformat": 4,
 "nbformat_minor": 0
}

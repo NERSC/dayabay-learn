{
 "cells": [
  {
   "cell_type": "code",
   "execution_count": 1,
   "metadata": {
    "collapsed": true
   },
   "outputs": [],
   "source": [
    "import numpy as np\n",
    "import os\n",
    "import sys\n",
    "from sklearn.manifold import TSNE\n",
    "import pickle\n",
    "def create_run_dir():\n",
    "    results_dir = './results/ev-runs'\n",
    "    run_num_file = os.path.join(results_dir, \"run_num.txt\")\n",
    "    if not os.path.exists(results_dir):\n",
    "        print \"making results dir\"\n",
    "        os.mkdir(results_dir)\n",
    "\n",
    "    if not os.path.exists(run_num_file):\n",
    "        print \"making run num file....\"\n",
    "        f = open(run_num_file,'w')\n",
    "        f.write('0')\n",
    "        f.close()\n",
    "\n",
    "\n",
    "\n",
    "\n",
    "    f = open(run_num_file,'r+')\n",
    "\n",
    "    run_num = int(f.readline()) + 1\n",
    "\n",
    "    f.seek(0)\n",
    "\n",
    "    f.write(str(run_num))\n",
    "\n",
    "\n",
    "    run_dir = os.path.join(results_dir,'run%i'%(run_num))\n",
    "    os.mkdir(run_dir)\n",
    "    return run_dir"
   ]
  },
  {
   "cell_type": "code",
   "execution_count": 2,
   "metadata": {
    "collapsed": true
   },
   "outputs": [],
   "source": [
    "def make_accidentals(only_charge=True, fraction=0.5, *datasets):\n",
    "    '''Scramble a given fraction of events in datasets to make them\n",
    "    \"accidental\" background.\n",
    "\n",
    "    Accomplish this task by shuffling prompt signals (charge and possibly time,\n",
    "    depending on the value of only_charge) to produce uncorrelated hit\n",
    "    patterns.\n",
    "\n",
    "    This method assumes the following shape for supplied data: (batch, [prompt\n",
    "    charge, prompt time, delayed charge, delayed time], x, y).'''\n",
    "    if fraction == 0:\n",
    "        return\n",
    "    for data in datasets:\n",
    "        totalentries = data.shape[0]\n",
    "        num_scrambled = int(np.ceil(totalentries * fraction))\n",
    "        toscramble = np.random.permutation(totalentries)[:num_scrambled]\n",
    "        scrambledestinations = np.random.permutation(toscramble)\n",
    "        data[scrambledestinations, 0] = data[toscramble, 0]\n",
    "        if not only_charge:  # then also scramble time\n",
    "            data[scrambledestinations, 1] = data[toscramble, 1]\n",
    "        return"
   ]
  },
  {
   "cell_type": "code",
   "execution_count": null,
   "metadata": {
    "collapsed": true
   },
   "outputs": [],
   "source": []
  },
  {
   "cell_type": "code",
   "execution_count": null,
   "metadata": {
    "collapsed": true
   },
   "outputs": [],
   "source": []
  }
 ],
 "metadata": {
  "kernelspec": {
   "display_name": "Python 2",
   "language": "python",
   "name": "python2"
  },
  "language_info": {
   "codemirror_mode": {
    "name": "ipython",
    "version": 2
   },
   "file_extension": ".py",
   "mimetype": "text/x-python",
   "name": "python",
   "nbconvert_exporter": "python",
   "pygments_lexer": "ipython2",
   "version": "2.7.11"
  }
 },
 "nbformat": 4,
 "nbformat_minor": 0
}

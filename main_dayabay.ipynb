{
 "cells": [
  {
   "cell_type": "code",
   "execution_count": 1,
   "metadata": {
    "collapsed": true
   },
   "outputs": [],
   "source": [
    "import sys"
   ]
  },
  {
   "cell_type": "code",
   "execution_count": 34,
   "metadata": {
    "collapsed": true
   },
   "outputs": [],
   "source": [
    "import h5py"
   ]
  },
  {
   "cell_type": "code",
   "execution_count": null,
   "metadata": {
    "collapsed": true
   },
   "outputs": [],
   "source": []
  },
  {
   "cell_type": "code",
   "execution_count": 35,
   "metadata": {
    "collapsed": true
   },
   "outputs": [],
   "source": [
    "import inspect"
   ]
  },
  {
   "cell_type": "code",
   "execution_count": 3,
   "metadata": {
    "collapsed": true
   },
   "outputs": [],
   "source": [
    "sys.path.insert(0,'/global/common/cori/software/theano/0.8.2/lib/python2.7/site-packages/')"
   ]
  },
  {
   "cell_type": "code",
   "execution_count": 4,
   "metadata": {
    "collapsed": true
   },
   "outputs": [],
   "source": [
    "import theano"
   ]
  },
  {
   "cell_type": "code",
   "execution_count": 36,
   "metadata": {
    "collapsed": false
   },
   "outputs": [
    {
     "data": {
      "text/plain": [
       "'/anaconda2/lib/python2.7/site-packages/h5py/__init__.pyc'"
      ]
     },
     "execution_count": 36,
     "metadata": {},
     "output_type": "execute_result"
    }
   ],
   "source": [
    "inspect.getfile(h5py)"
   ]
  },
  {
   "cell_type": "code",
   "execution_count": 6,
   "metadata": {
    "collapsed": true
   },
   "outputs": [],
   "source": [
    "sys.path.insert(0,'/global/common/cori/software/lasagne/0.1/lib/python2.7/site-packages/')"
   ]
  },
  {
   "cell_type": "code",
   "execution_count": 7,
   "metadata": {
    "collapsed": false
   },
   "outputs": [],
   "source": [
    "import lasagne"
   ]
  },
  {
   "cell_type": "code",
   "execution_count": 8,
   "metadata": {
    "collapsed": false
   },
   "outputs": [],
   "source": [
    "import numpy as np"
   ]
  },
  {
   "cell_type": "code",
   "execution_count": 33,
   "metadata": {
    "collapsed": false
   },
   "outputs": [],
   "source": [
    "__author__ = 'racah'\n",
    "import os\n",
    "import pickle\n",
    "import sys\n",
    "#from neon.util.argparser import NeonArgparser\n",
    "\n",
    "import h5py\n",
    "import matplotlib\n",
    "from sklearn.manifold import TSNE\n",
    "import numpy as np\n",
    "matplotlib.use('agg')\n",
    "from matplotlib import pyplot as plt\n",
    "from sklearn.decomposition import PCA\n",
    "from networks.LasagneConv import IBDPairConvAe\n",
    "from vis.viz import Viz\n",
    "from util.helper_fxns import adjust_train_val_test_sizes\n",
    "\n",
    "from util.data_loaders import load_dayabay_conv, load_ibd_pairs"
   ]
  },
  {
   "cell_type": "code",
   "execution_count": 15,
   "metadata": {
    "collapsed": true
   },
   "outputs": [],
   "source": [
    "# 1) Primary AD           10000 or 1\n",
    "# 2) Delayed AD response  01000 or 2\n",
    "# 3) Muon decay           00100 or 3\n",
    "# 4) Flasher              00010 or 4\n",
    "# 5) Other (background noise) 00001 or 5"
   ]
  },
  {
   "cell_type": "code",
   "execution_count": 24,
   "metadata": {
    "collapsed": true
   },
   "outputs": [],
   "source": [
    "args = sys.argv[3:] if 'ipykernel' in sys.argv[0] else sys.argv"
   ]
  },
  {
   "cell_type": "code",
   "execution_count": 26,
   "metadata": {
    "collapsed": true
   },
   "outputs": [],
   "source": [
    "h5file = args[1] if len(args) > 1 else '/project/projectdirs/dasrepo/single_20000.h5'\n",
    "batch_size = args[2] if len(args) > 2 else 128"
   ]
  },
  {
   "cell_type": "code",
   "execution_count": 27,
   "metadata": {
    "collapsed": false
   },
   "outputs": [],
   "source": [
    "#load data from hdf5, preprocess and split into train and test\n",
    "x_train, x_test, x_val  = load_ibd_pairs(h5file, train_frac=0.5, valid_frac=0.25, preprocess=True)"
   ]
  },
  {
   "cell_type": "code",
   "execution_count": 30,
   "metadata": {
    "collapsed": false
   },
   "outputs": [],
   "source": [
    "#class for networks architecture\n",
    "cae = IBDPairConvAe()\n",
    "\n",
    "#uses scikit-learn interface (so this trains on X_train)\n",
    "cae.fit(X_train)"
   ]
  },
  {
   "cell_type": "code",
   "execution_count": 105,
   "metadata": {
    "collapsed": true
   },
   "outputs": [],
   "source": [
    "#extract the hidden layer outputs when running x_val thru autoencoder\n",
    "feat = cae.extract(X_val)"
   ]
  },
  {
   "cell_type": "code",
   "execution_count": 31,
   "metadata": {
    "collapsed": false
   },
   "outputs": [],
   "source": [
    "gr_truth = y_val #convert from one-hot to normal\n",
    "\n",
    "%matplotlib inline\n",
    "\n",
    "v = Viz(gr_truth)\n",
    "\n",
    "# take first two principal components of features, so we can plot easily\n",
    "#normally we would do t-SNE (but takes too long for quick demo)\n",
    "x_pc = v.get_pca(feat)\n",
    "\n",
    "#plot the 2D-projection of the features\n",
    "v.plot_features(x_pc,save=False)"
   ]
  },
  {
   "cell_type": "code",
   "execution_count": 32,
   "metadata": {
    "collapsed": false
   },
   "outputs": [],
   "source": [
    "#get reconstruction of X_val from autoencoder\n",
    "x_rec = cae.predict(X_val)\n",
    "\n",
    "#fromat X_val\n",
    "x_orig = X_val.reshape(X_val.shape[0], 192)\n",
    "\n",
    "#plot reconstruction\n",
    "v.plot_reconstruction(x_orig[2], x_rec[2], indx=10, save=False)"
   ]
  }
 ],
 "metadata": {
  "kernelspec": {
   "display_name": "Python 2",
   "language": "python",
   "name": "python2"
  },
  "language_info": {
   "codemirror_mode": {
    "name": "ipython",
    "version": 2
   },
   "file_extension": ".py",
   "mimetype": "text/x-python",
   "name": "python",
   "nbconvert_exporter": "python",
   "pygments_lexer": "ipython2",
   "version": "2.7.11"
  }
 },
 "nbformat": 4,
 "nbformat_minor": 0
}

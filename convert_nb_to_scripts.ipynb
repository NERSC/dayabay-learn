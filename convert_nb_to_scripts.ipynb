{
 "cells": [
  {
   "cell_type": "code",
   "execution_count": 6,
   "metadata": {
    "collapsed": false
   },
   "outputs": [
    {
     "name": "stdout",
     "output_type": "stream",
     "text": [
      "[TerminalIPythonApp] WARNING | Subcommand `ipython nbconvert` is deprecated and will be removed in future versions.\n",
      "[TerminalIPythonApp] WARNING | You likely want to use `jupyter nbconvert` in the future\n",
      "[NbConvertApp] Converting notebook ./convert_nb_to_scripts.ipynb to script\n",
      "[NbConvertApp] Writing 1056 bytes to ./convert_nb_to_scripts.py\n",
      "[NbConvertApp] Converting notebook ./ev_ibd_ae.ipynb to script\n",
      "[NbConvertApp] Writing 2220 bytes to ./ev_ibd_ae.py\n",
      "[NbConvertApp] Converting notebook networks/evdcae_net.ipynb to script\n",
      "[NbConvertApp] Writing 10063 bytes to networks/evdcae_net.py\n",
      "[NbConvertApp] Converting notebook networks/print_n_plot.ipynb to script\n",
      "[NbConvertApp] Writing 4238 bytes to networks/print_n_plot.py\n",
      "[NbConvertApp] Converting notebook networks/train_val.ipynb to script\n",
      "[NbConvertApp] Writing 5719 bytes to networks/train_val.py\n",
      "[NbConvertApp] Converting notebook util/helper_fxns.ipynb to script\n",
      "[NbConvertApp] Writing 1720 bytes to util/helper_fxns.py\n",
      "[NbConvertApp] Converting notebook util/merge_files.ipynb to script\n",
      "[NbConvertApp] Writing 1351 bytes to util/merge_files.py\n"
     ]
    }
   ],
   "source": [
    "! ipython nbconvert --to script ./*.ipynb */*.ipynb\n",
    "\n",
    "import os\n",
    "import sys\n",
    "\n",
    "#.txt means file was open/not saved so converted to .txt not .py\n",
    "for fil in os.listdir('.'):\n",
    "    assert '.txt' not in fil, \"Save all your notebooks first!\"\n",
    "        \n",
    "        \n",
    "\n",
    "! sed -i.bak 's/# coding: utf-8/import matplotlib; matplotlib.use(\"agg\")/g' ./*.py\n",
    "\n",
    "#get rid of IN[] lines\n",
    "!sed -i.bak '/# IN\\[*/d' ./*.py */*.py\n",
    "\n",
    "#get rid of ipython lines\n",
    "!sed -i.bak '/ipython*/d' ./*.py */*.py\n",
    "\n",
    "!sed -i.bak '/NotebookFinder*/d' ./*.py */*.py\n",
    "\n",
    "#get rid of IN[] lines\n",
    "!sed -i.bak '/# In\\[*/d' ./*.py */*.py\n",
    "\n",
    "!sed -i.bak '/# coding:*/d' ./*.py */*.py\n",
    "\n",
    "!sed -i.bak 's/plt.show()*/pass/g' ./*.py */*.py\n",
    "! rm *.bak */*.bak\n",
    "! rm convert_nb_to_scripts.py\n"
   ]
  },
  {
   "cell_type": "code",
   "execution_count": 2,
   "metadata": {
    "collapsed": false
   },
   "outputs": [
    {
     "name": "stdout",
     "output_type": "stream",
     "text": [
      "Building model and compiling functions...\n",
      "(None, 2, 8, 24)\n",
      "(None, 5, 11, 12)\n",
      "(None, 5, 6, 6)\n",
      "(None, 1024)\n",
      "(None, 180)\n",
      "(None, 5, 6, 6)\n",
      "(None, 5, 11, 12)\n",
      "(None, 2, 8, 24)\n",
      "Starting training...\n",
      "Epoch 1 of 1 took 0.145s\n",
      "\ttraining los:\t\t0.1760\n",
      "\ttraining acc:\t\t17.3743 %\n",
      "  validation loss:\t\t0.177549\n",
      "  validation accuracy:\t\t17.75 %\n"
     ]
    }
   ],
   "source": [
    "! python ev_ibd_ae.py -e 1 -n 20 --fc 10 -f 5"
   ]
  },
  {
   "cell_type": "code",
   "execution_count": 8,
   "metadata": {
    "collapsed": true
   },
   "outputs": [],
   "source": [
    "os.rename?"
   ]
  },
  {
   "cell_type": "code",
   "execution_count": null,
   "metadata": {
    "collapsed": true
   },
   "outputs": [],
   "source": []
  }
 ],
 "metadata": {
  "kernelspec": {
   "display_name": "deeplearning",
   "language": "python",
   "name": "deeplearning"
  },
  "language_info": {
   "codemirror_mode": {
    "name": "ipython",
    "version": 2
   },
   "file_extension": ".py",
   "mimetype": "text/x-python",
   "name": "python",
   "nbconvert_exporter": "python",
   "pygments_lexer": "ipython2",
   "version": "2.7.12"
  }
 },
 "nbformat": 4,
 "nbformat_minor": 0
}

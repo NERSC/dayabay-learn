{
 "cells": [
  {
   "cell_type": "code",
   "execution_count": 2,
   "metadata": {
    "collapsed": false
   },
   "outputs": [
    {
     "name": "stdout",
     "output_type": "stream",
     "text": [
      "[TerminalIPythonApp] WARNING | Subcommand `ipython nbconvert` is deprecated and will be removed in future versions.\n",
      "[TerminalIPythonApp] WARNING | You likely want to use `jupyter nbconvert` in the future\n",
      "[NbConvertApp] Converting notebook ./convert_nb_to_scripts.ipynb to script\n",
      "[NbConvertApp] Writing 1044 bytes to ./convert_nb_to_scripts.py\n",
      "[NbConvertApp] Converting notebook ./ev_ibd_ae.ipynb to script\n",
      "[NbConvertApp] Writing 2281 bytes to ./ev_ibd_ae.py\n",
      "[NbConvertApp] Converting notebook networks/build_evdcae.ipynb to script\n",
      "[NbConvertApp] Writing 7883 bytes to networks/build_evdcae.py\n",
      "[NbConvertApp] Converting notebook networks/evdcae_net.ipynb to script\n",
      "[NbConvertApp] Writing 2634 bytes to networks/evdcae_net.py\n",
      "[NbConvertApp] Converting notebook networks/print_n_plot.ipynb to script\n",
      "[NbConvertApp] Writing 3989 bytes to networks/print_n_plot.py\n",
      "[NbConvertApp] Converting notebook networks/train_val.ipynb to script\n",
      "[NbConvertApp] Writing 5030 bytes to networks/train_val.py\n",
      "[NbConvertApp] Converting notebook util/helper_fxns.ipynb to script\n",
      "[NbConvertApp] Writing 1720 bytes to util/helper_fxns.py\n",
      "[NbConvertApp] Converting notebook util/merge_files.ipynb to script\n",
      "[NbConvertApp] Writing 1351 bytes to util/merge_files.py\n"
     ]
    }
   ],
   "source": [
    "! ipython nbconvert --to script ./*.ipynb */*.ipynb\n",
    "\n",
    "import os\n",
    "import sys\n",
    "\n",
    "#.txt means file was open/not saved so converted to .txt not .py\n",
    "for fil in os.listdir('.'):\n",
    "    assert '.txt' not in fil, \"Save all your notebooks first!\"\n",
    "        \n",
    "        \n",
    "\n",
    "! sed -i.bak 's/# coding: utf-8/import matplotlib; matplotlib.use(\"agg\")/g' ./*.py\n",
    "\n",
    "#get rid of IN[] lines\n",
    "!sed -i.bak '/# IN\\[*/d' ./*.py */*.py\n",
    "\n",
    "#get rid of ipython lines\n",
    "!sed -i.bak '/ipython*/d' ./*.py */*.py\n",
    "\n",
    "!sed -i.bak '/NotebookFinder*/d' ./*.py */*.py\n",
    "\n",
    "#get rid of IN[] lines\n",
    "!sed -i.bak '/# In\\[*/d' ./*.py */*.py\n",
    "\n",
    "!sed -i.bak '/# coding:*/d' ./*.py */*.py\n",
    "\n",
    "!sed -i.bak 's/plt.show()*/pass/g' ./*.py */*.py\n",
    "!sed -i.bak 's/# //g' ./*.py\n",
    "! rm *.bak */*.bak\n",
    "! rm convert_nb_to_scripts.py\n"
   ]
  },
  {
   "cell_type": "code",
   "execution_count": null,
   "metadata": {
    "collapsed": true
   },
   "outputs": [],
   "source": []
  }
 ],
 "metadata": {
  "kernelspec": {
   "display_name": "Python 2",
   "language": "python",
   "name": "python2"
  },
  "language_info": {
   "codemirror_mode": {
    "name": "ipython",
    "version": 2
   },
   "file_extension": ".py",
   "mimetype": "text/x-python",
   "name": "python",
   "nbconvert_exporter": "python",
   "pygments_lexer": "ipython2",
   "version": "2.7.12"
  }
 },
 "nbformat": 4,
 "nbformat_minor": 0
}

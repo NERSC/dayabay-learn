{
 "cells": [
  {
   "cell_type": "code",
   "execution_count": 1,
   "metadata": {
    "collapsed": true
   },
   "outputs": [],
   "source": [
    "import numpy as np\n",
    "import lasagne\n",
    "import time\n",
    "from matplotlib import pyplot as plt\n",
    "import matplotlib.mlab as mlab\n",
    "import matplotlib.cbook as cbook\n",
    "%matplotlib inline"
   ]
  },
  {
   "cell_type": "code",
   "execution_count": 2,
   "metadata": {
    "collapsed": true
   },
   "outputs": [],
   "source": [
    "\n",
    "def print_train_results(epoch, num_epochs, start_time, tr_err, tr_acc):\n",
    "    # Then we print the results for this epoch:\n",
    "    print \"Epoch {} of {} took {:.3f}s\".format(epoch + 1, num_epochs, time.time() - start_time)\n",
    "    print \"\\ttraining los:\\t\\t{:.4f}\".format(tr_err)\n",
    "    print \"\\ttraining acc:\\t\\t{:.4f} %\".format(tr_acc * 100)\n",
    "\n",
    "\n",
    "def print_val_results(val_err, val_acc):\n",
    "    print \"  validation loss:\\t\\t{:.6f}\".format(val_err)\n",
    "    print \"  validation accuracy:\\t\\t{:.2f} %\".format(val_acc * 100)\n",
    "\n",
    "def plot_learn_curve(train_errs_or_accs, val_errs_or_accs, err_or_acc, save_plots, path,mode=''):\n",
    "        plt.figure(1 if err_or_acc == 'err' else 2)\n",
    "        plt.clf()\n",
    "        plt.title('%s Train/Val %s' %(mode,err_or_acc))\n",
    "        plt.plot(train_errs_or_accs, label='train ' + err_or_acc)\n",
    "        plt.plot(val_errs_or_accs, label='val' + err_or_acc)\n",
    "        plt.legend( loc = 'center left', bbox_to_anchor = (1.0, 0.5),\n",
    "           ncol=2)\n",
    "        if save_plots:\n",
    "            plt.savefig(\"%s/%s_%s_learning_curve.png\"%(path,err_or_acc,mode))\n",
    "            plt.show()\n",
    "        else:\n",
    "            plt.show()"
   ]
  },
  {
   "cell_type": "code",
   "execution_count": 3,
   "metadata": {
    "collapsed": true
   },
   "outputs": [],
   "source": [
    "def plot_reconstruction(x_inp,x_reconstructed,indx=0, save=False, path=''):\n",
    "#     plt.figure(indx)\n",
    "#     plt.clf()\n",
    "#     print \"hey\"\n",
    "#     ims = [x_inp, x_reconstructed]\n",
    "#     info = ['original', 'reconstructed']\n",
    "\n",
    "#     if self.gr_truth is not None:\n",
    "#         # the ground truth class number indexes the class names or labels\n",
    "#         cls = self.labels[self.gr_truth[indx]]\n",
    "#     else:\n",
    "    cls= ''\n",
    "    plt.figure(indx)\n",
    "    plt.clf()\n",
    "    imo = x_inp[indx]\n",
    "    dimo = plt.imshow(imo,interpolation='none' )\n",
    "    plt.colorbar(dimo)\n",
    "    plt.title('original')\n",
    "    if save:\n",
    "        plt.savefig(\"%s/orig%i.png\"%(path, indx))\n",
    "        plt.show()\n",
    "    else:\n",
    "        plt.show()\n",
    "    plt.figure(indx+1)\n",
    "    plt.clf()\n",
    "    imr = x_reconstructed[indx]\n",
    "    dimr = plt.imshow(imr,interpolation='none' )\n",
    "    plt.colorbar(dimr)\n",
    "    plt.title('reconstructed')\n",
    "    if save:\n",
    "        plt.savefig(\"%s/rec%i.png\"%(path, indx))\n",
    "        plt.show()\n",
    "    else:\n",
    "        plt.show()"
   ]
  },
  {
   "cell_type": "code",
   "execution_count": 4,
   "metadata": {
    "collapsed": true
   },
   "outputs": [],
   "source": [
    "# def plot_weights(network, layer_ind):\n",
    "#     layers = lasagne.layers.get_all_layers()\n",
    "#     #get weights\n",
    "#     weights=layers[layer_ind].get_params()[0]\n",
    "    \n",
    "    "
   ]
  },
  {
   "cell_type": "code",
   "execution_count": 5,
   "metadata": {
    "collapsed": false
   },
   "outputs": [
    {
     "data": {
      "image/png": "[encoded data removed]",
      "text/plain": [
       "<matplotlib.figure.Figure at 0x2aac0b9c6450>"
      ]
     },
     "metadata": {},
     "output_type": "display_data"
    },
    {
     "data": {
      "image/png": "[encoded data removed]",
      "text/plain": [
       "<matplotlib.figure.Figure at 0x2aac0b8c7290>"
      ]
     },
     "metadata": {},
     "output_type": "display_data"
    }
   ],
   "source": [
    "if __name__ == \"__main__\":\n",
    "    a=np.random.random((100,8,24))\n",
    "\n",
    "    plot_reconstruction(a[:30],a[40:])"
   ]
  },
  {
   "cell_type": "code",
   "execution_count": 28,
   "metadata": {
    "collapsed": true
   },
   "outputs": [],
   "source": []
  }
 ],
 "metadata": {
  "kernelspec": {
   "display_name": "Python 2",
   "language": "python",
   "name": "python2"
  },
  "language_info": {
   "codemirror_mode": {
    "name": "ipython",
    "version": 2
   },
   "file_extension": ".py",
   "mimetype": "text/x-python",
   "name": "python",
   "nbconvert_exporter": "python",
   "pygments_lexer": "ipython2",
   "version": "2.7.12"
  }
 },
 "nbformat": 4,
 "nbformat_minor": 0
}

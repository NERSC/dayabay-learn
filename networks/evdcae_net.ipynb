{
 "cells": [
  {
   "cell_type": "code",
   "execution_count": 1,
   "metadata": {
    "collapsed": false
   },
   "outputs": [
    {
     "name": "stdout",
     "output_type": "stream",
     "text": [
      "importing Jupyter notebook from print_n_plot.ipynb\n",
      "importing Jupyter notebook from build_evdcae.ipynb\n",
      "importing Jupyter notebook from train_val.ipynb\n"
     ]
    }
   ],
   "source": [
    "import sys\n",
    "import theano\n",
    "import os\n",
    "import time\n",
    "import numpy as np\n",
    "import theano.tensor as T\n",
    "import lasagne\n",
    "import matplotlib\n",
    "import matplotlib.pyplot as plt\n",
    "import h5py\n",
    "%matplotlib inline\n",
    "\n",
    "import time\n",
    "import preprocessing\n",
    "from sklearn.manifold import TSNE\n",
    "\n",
    "#temporary!\n",
    "if __name__ == \"__main__\":\n",
    "    #just a little trick for testing in order to get the data loader\n",
    "    sys.path.insert(0,os.path.dirname(os.getcwd()))\n",
    "    \n",
    "\n",
    "from util.data_loaders import get_ibd_data\n",
    "from networks.Network import AbstractNetwork\n",
    "#enable importing of notebooks\n",
    "from nbfinder import NotebookFinder\n",
    "sys.meta_path.append(NotebookFinder())\n",
    "from print_n_plot import plot_reconstruction\n",
    "from build_evdcae import build_network\n",
    "from train_val import train\n",
    "from networks.preprocessing import scale, scale_min_max\n"
   ]
  },
  {
   "cell_type": "code",
   "execution_count": 2,
   "metadata": {
    "collapsed": false
   },
   "outputs": [],
   "source": [
    "class DenoisingConvAe(AbstractNetwork):\n",
    "    def __init__(self, *args, **kwargs):\n",
    "        network_kwargs = kwargs['network_kwargs'] if 'network_kwargs' in kwargs else {}\n",
    "        self.train_kwargs = kwargs['train_kwargs'] if 'train_kwargs' in kwargs else {}\n",
    "        \n",
    "        self.train_fn, \\\n",
    "        self.val_fn, \\\n",
    "        self.pred_fn, \\\n",
    "        self.hlayer_fn,\\\n",
    "        self.network = build_network(**network_kwargs)\n",
    "        \n",
    "        \n",
    "\n",
    "    def fit(self, x_train, y_train, x_val,y_val):\n",
    "        x_train, x_val = self.preprocess_data(x_train, x_val)\n",
    "        train((x_train, x_train, x_val,x_val),\n",
    "                             self.network, \n",
    "                             self.train_fn, \n",
    "                             self.val_fn,\n",
    "                             pred_fn = self.pred_fn,\n",
    "                             **self.train_kwargs)\n",
    "        \n",
    "\n",
    "    def predict(self, x):\n",
    "        return self.pred_fn(x)\n",
    "        \n",
    "\n",
    "    def extract_hidden_layer(self, data):\n",
    "        return self.hlayer_fn(data)\n",
    "        \n",
    "\n",
    "    def minibatch_iterator(self, x, y):\n",
    "        '''iterate over minibatches'''\n",
    "        raise NotImplemented()\n",
    "\n",
    "    def preprocess_data(self, train,val ):\n",
    "        mins, maxes = scale_min_max(train)\n",
    "        scale_min_max(val,mins=mins,maxes=maxes)\n",
    "        return train, val\n"
   ]
  },
  {
   "cell_type": "code",
   "execution_count": 3,
   "metadata": {
    "collapsed": false
   },
   "outputs": [],
   "source": [
    "if __name__ == \"__main__\":\n",
    "    x_train, x_val, x_test = get_ibd_data(tot_num_pairs=200, preprocess=True, just_charges=True)\n",
    "\n",
    "    dca = DenoisingConvAe(network_kwargs={'learning_rate':0.01}, \n",
    "                          train_kwargs={'num_epochs': 11, 'save_path': os.path.dirname(os.getcwd()) + '/results'})\n",
    "\n",
    "    dca.fit(x_train,x_train,x_val,x_val)\n",
    "\n",
    "    rec= dca.predict(x_train)\n",
    "\n",
    "    hlayer = dca.extract_hidden_layer(x_train)\n",
    "\n",
    "\n",
    "\n",
    "    ts = TSNE(perplexity=50).fit_transform(hlayer)\n",
    "\n",
    "    plt.scatter(ts[:,0], ts[:,1])"
   ]
  }
 ],
 "metadata": {
  "kernelspec": {
   "display_name": "Python 2",
   "language": "python",
   "name": "python2"
  },
  "language_info": {
   "codemirror_mode": {
    "name": "ipython",
    "version": 2
   },
   "file_extension": ".py",
   "mimetype": "text/x-python",
   "name": "python",
   "nbconvert_exporter": "python",
   "pygments_lexer": "ipython2",
   "version": "2.7.12"
  }
 },
 "nbformat": 4,
 "nbformat_minor": 0
}

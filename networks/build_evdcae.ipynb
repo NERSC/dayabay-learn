{
 "cells": [
  {
   "cell_type": "code",
   "execution_count": 1,
   "metadata": {
    "collapsed": false
   },
   "outputs": [
    {
     "ename": "ImportError",
     "evalue": "No module named util.data_loaders",
     "output_type": "error",
     "traceback": [
      "\u001b[1;31m\u001b[0m",
      "\u001b[1;31mImportError\u001b[0mTraceback (most recent call last)",
      "\u001b[1;32m<ipython-input-1-b1c748cc05f8>\u001b[0m in \u001b[0;36m<module>\u001b[1;34m()\u001b[0m\n\u001b[0;32m      9\u001b[0m \u001b[1;32mfrom\u001b[0m \u001b[0mnbfinder\u001b[0m \u001b[1;32mimport\u001b[0m \u001b[0mNotebookFinder\u001b[0m\u001b[1;33m\u001b[0m\u001b[0m\n\u001b[0;32m     10\u001b[0m \u001b[0msys\u001b[0m\u001b[1;33m.\u001b[0m\u001b[0mmeta_path\u001b[0m\u001b[1;33m.\u001b[0m\u001b[0mappend\u001b[0m\u001b[1;33m(\u001b[0m\u001b[0mNotebookFinder\u001b[0m\u001b[1;33m(\u001b[0m\u001b[1;33m)\u001b[0m\u001b[1;33m)\u001b[0m\u001b[1;33m\u001b[0m\u001b[0m\n\u001b[1;32m---> 11\u001b[1;33m \u001b[1;32mfrom\u001b[0m \u001b[0mutil\u001b[0m\u001b[1;33m.\u001b[0m\u001b[0mdata_loaders\u001b[0m \u001b[1;32mimport\u001b[0m \u001b[0mload_ibd_pairs\u001b[0m\u001b[1;33m,\u001b[0m \u001b[0mget_ibd_data\u001b[0m\u001b[1;33m\u001b[0m\u001b[0m\n\u001b[0m",
      "\u001b[1;31mImportError\u001b[0m: No module named util.data_loaders"
     ]
    }
   ],
   "source": [
    "import lasagne\n",
    "from lasagne import layers as L\n",
    "import theano\n",
    "from theano import tensor as T\n",
    "import sys\n",
    "import numpy as np\n",
    "from theano.tensor.shared_randomstreams import RandomStreams\n",
    "#enable importing of notebooks\n",
    "from nbfinder import NotebookFinder\n",
    "sys.meta_path.append(NotebookFinder())\n",
    "from util.data_loaders import load_ibd_pairs, get_ibd_data"
   ]
  },
  {
   "cell_type": "code",
   "execution_count": null,
   "metadata": {
    "collapsed": true
   },
   "outputs": [],
   "source": [
    "def build_denoising_convae(input_var,input_shape,\n",
    "                                  num_filters,\n",
    "                                  num_fc_units,\n",
    "                                  num_extra_conv, \n",
    "                                  num_pool,\n",
    "                                  nonlinearity,\n",
    "                                  w_init,\n",
    "                                  dropout_p,\n",
    "                                  corruption_p):\n",
    "   \n",
    "    \n",
    "\n",
    "    \n",
    "    rng = np.random.RandomState(498)\n",
    "    theano_rng = RandomStreams(rng.randint(2 ** 30))\n",
    "    #do denoising here\n",
    "    corrup_input = theano_rng.binomial(size=input_var.shape, n=1,\n",
    "                                        p=1 - corruption_p,\n",
    "                                        dtype=theano.config.floatX) * input_var\n",
    "    \n",
    "    \n",
    "    \n",
    "    #input var is (n_ex x 2 x 8 x 24)\n",
    "    network = L.InputLayer(shape=input_shape, input_var=corrup_input)\n",
    "    print network.get_output_shape_for(input_shape)\n",
    "    #output of this is num_filters x 11 x 12\n",
    "    network = L.Conv2DLayer(network, \n",
    "                            num_filters=num_filters, \n",
    "                            filter_size=(2,2),\n",
    "                            pad=(2,0),\n",
    "                            stride=(1,2),\n",
    "                            nonlinearity=nonlinearity,\n",
    "                            W=w_init)\n",
    "    print network.get_output_shape_for(network.input_shape)\n",
    "    \n",
    "    #output of this is num_filters x 6 x 6\n",
    "    network = L.Conv2DLayer(network, num_filters=num_filters, \n",
    "                                 filter_size=(2,2),\n",
    "                                 pad=(1,0),\n",
    "                                 stride=2)\n",
    "    \n",
    "    last_conv_shape = network.get_output_shape_for(network.input_shape)\n",
    "    print last_conv_shape\n",
    "    \n",
    "    #output of this is num_fc_units\n",
    "    network = lasagne.layers.DenseLayer(\n",
    "                                lasagne.layers.dropout(network, p=dropout_p),\n",
    "                                num_units=num_fc_units,\n",
    "                                nonlinearity=nonlinearity)\n",
    "    print network.get_output_shape_for(network.input_shape)\n",
    "    #capture hidden layer\n",
    "    hid_layer = network\n",
    "    \n",
    "    #output of this is num_filters*6*6\n",
    "    network = lasagne.layers.DenseLayer(\n",
    "                                lasagne.layers.dropout(network, p=dropout_p),\n",
    "                                num_units=np.prod(last_conv_shape[1:]),\n",
    "                                nonlinearity=nonlinearity)\n",
    "    print network.get_output_shape_for(network.input_shape)\n",
    "    \n",
    "    #output of this is num_filters x 6 x 6\n",
    "    network = lasagne.layers.ReshapeLayer(network, shape=([0],last_conv_shape[1],last_conv_shape[2],last_conv_shape[3]))\n",
    "    \n",
    "    print network.get_output_shape_for(network.input_shape)\n",
    "    #output of this is num_filters x 11 x 12\n",
    "    network = lasagne.layers.TransposedConv2DLayer(network, num_filters=num_filters, \n",
    "                                 filter_size=(3,2),\n",
    "                                 crop=(1,0),\n",
    "                                 stride=(2,2),\n",
    "                                 nonlinearity=nonlinearity,\n",
    "                                 W=w_init)\n",
    "    \n",
    "    print network.get_output_shape_for(network.input_shape)\n",
    "    #output of this is num_filters x 8  x 24\n",
    "    #note the number of filters has to be same as number of input channels\n",
    "    network = lasagne.layers.TransposedConv2DLayer(network, num_filters=input_shape[1], \n",
    "                                 filter_size=(2,2),\n",
    "                                 crop=(2,0),\n",
    "                                 stride=(1,2),\n",
    "                                 nonlinearity=lasagne.nonlinearities.linear,\n",
    "                                 W=w_init)\n",
    "    print network.get_output_shape_for(network.input_shape)\n",
    "\n",
    "    \n",
    "    return network, hid_layer"
   ]
  },
  {
   "cell_type": "code",
   "execution_count": null,
   "metadata": {
    "collapsed": false
   },
   "outputs": [],
   "source": [
    "def build_network(learning_rate = 0.01,\n",
    "                  input_shape=(None,2,8,24),\n",
    "                  momentum = 0.9,\n",
    "                  num_filters=128,\n",
    "                  num_fc_units=1024,\n",
    "                  num_extra_conv=0, \n",
    "                  num_pool=4,\n",
    "                  nonlinearity=lasagne.nonlinearities.rectify,\n",
    "                  w_init=lasagne.init.HeNormal(),\n",
    "                  dropout_p=0.,\n",
    "                  corruption_p = 0.3,\n",
    "                  load=False):\n",
    "    \n",
    "    input_var = T.tensor4('input_var')\n",
    "    target_var = T.tensor4('target_var')\n",
    "    print(\"Building model and compiling functions...\")\n",
    "    \n",
    "    \n",
    "    network, hid_layer = build_denoising_convae(input_var,\n",
    "                                                input_shape,\n",
    "                                                num_filters,\n",
    "                                                num_fc_units,\n",
    "                                                num_extra_conv, \n",
    "                                                num_pool,\n",
    "                                                nonlinearity,\n",
    "                                                w_init,\n",
    "                                                dropout_p,\n",
    "                                                corruption_p)\n",
    "    \n",
    "    if load:\n",
    "        with np.load('model.npz') as f:\n",
    "            param_values = [f['arr_%d' % i] for i in range(len(f.files))]\n",
    "            lasagne.layers.set_all_param_values(network, param_values)\n",
    "\n",
    "\n",
    "    prediction = lasagne.layers.get_output(network, deterministic=False)\n",
    "    hid_layer_output = lasagne.layers.get_output(hid_layer, deterministic=True)\n",
    "    loss = lasagne.objectives.squared_error(prediction, target_var)\n",
    "    loss = loss.mean()\n",
    "    \n",
    "  \n",
    "\n",
    "    params = lasagne.layers.get_all_params(network, trainable=True)\n",
    "    updates = lasagne.updates.nesterov_momentum(loss, params, learning_rate=learning_rate, momentum=momentum)\n",
    "\n",
    "\n",
    "    test_prediction = lasagne.layers.get_output(network, deterministic=True)\n",
    "    test_loss = lasagne.objectives.squared_error(test_prediction,\n",
    "                                                                target_var)\n",
    "    test_loss = test_loss.mean()\n",
    "\n",
    "\n",
    "    salmap = theano.grad(hid_layer_output.sum(), wrt=input_var)\n",
    "\n",
    "    test_acc = test_loss \n",
    "\n",
    "\n",
    "    train_fn = theano.function([input_var, target_var], loss, updates=updates)\n",
    "\n",
    "\n",
    "\n",
    "    val_fn = theano.function([input_var, target_var], [test_loss, test_acc])\n",
    "    \n",
    "    pred_fn = theano.function([input_var], test_prediction)\n",
    "    \n",
    "    hlayer_fn = theano.function([input_var], hid_layer_output )\n",
    "    \n",
    "    salmap_fn = theano.function([input_var], salmap)\n",
    "\n",
    "    return train_fn, val_fn, pred_fn, hlayer_fn, salmap_fn, network"
   ]
  },
  {
   "cell_type": "code",
   "execution_count": null,
   "metadata": {
    "collapsed": false
   },
   "outputs": [],
   "source": [
    "if __name__ == \"__main__\":\n",
    "    #make data\n",
    "    xtr,xv,xte = get_ibd_data(tot_num_pairs=30, preprocess=True)\n",
    "    train_fn, val_fn, pred_fn, hlayer_fn, salmap_fn, network = build_network(input_shape=(None,4,8,24))\n",
    "    a=train_fn(xtr,xtr)\n",
    "    b=pred_fn(xtr)\n",
    "    c=hlayer_fn(xtr)"
   ]
  },
  {
   "cell_type": "code",
   "execution_count": 44,
   "metadata": {
    "collapsed": false
   },
   "outputs": [
    {
     "data": {
      "text/plain": [
       "<matplotlib.colorbar.Colorbar at 0x2aaae4b72450>"
      ]
     },
     "execution_count": 44,
     "metadata": {},
     "output_type": "execute_result"
    },
    {
     "data": {
      "image/png": "[encoded data removed]",
      "text/plain": [
       "<matplotlib.figure.Figure at 0x2aaae1802290>"
      ]
     },
     "metadata": {},
     "output_type": "display_data"
    },
    {
     "data": {
      "image/png": "[encoded data removed]",
      "text/plain": [
       "<matplotlib.figure.Figure at 0x2aaaf45d5950>"
      ]
     },
     "metadata": {},
     "output_type": "display_data"
    }
   ],
   "source": [
    "if __name__ == \"__main__\":\n",
    "    from matplotlib import pyplot as plt\n",
    "    %matplotlib inline\n",
    "    plt.imshow(b[0,0],interpolation='none')\n",
    "    plt.colorbar()\n",
    "    plt.figure(2)\n",
    "    plt.imshow(xtr[0,0],interpolation='none')\n",
    "    plt.colorbar()"
   ]
  },
  {
   "cell_type": "code",
   "execution_count": 14,
   "metadata": {
    "collapsed": false
   },
   "outputs": [],
   "source": [
    "if __name__ == \"__main__\":\n",
    "    xtr,xv,xte = get_ibd_data(tot_num_pairs=30, preprocess=True)\n",
    "    for x in [xtr,xv,xte]:\n",
    "        assert(x.min() > -1.1)\n",
    "        assert (x.max() < 1.1)\n"
   ]
  },
  {
   "cell_type": "code",
   "execution_count": null,
   "metadata": {
    "collapsed": true
   },
   "outputs": [],
   "source": []
  }
 ],
 "metadata": {
  "kernelspec": {
   "display_name": "deeplearning",
   "language": "python",
   "name": "deeplearning"
  },
  "language_info": {
   "codemirror_mode": {
    "name": "ipython",
    "version": 2
   },
   "file_extension": ".py",
   "mimetype": "text/x-python",
   "name": "python",
   "nbconvert_exporter": "python",
   "pygments_lexer": "ipython2",
   "version": "2.7.12"
  }
 },
 "nbformat": 4,
 "nbformat_minor": 0
}

{
 "cells": [
  {
   "cell_type": "code",
   "execution_count": 1,
   "metadata": {
    "collapsed": true
   },
   "outputs": [],
   "source": [
    "__author__ = 'racah'\n",
    "import numpy as np\n",
    "import os\n",
    "import pickle\n",
    "import sys\n",
    "import h5py\n",
    "import matplotlib\n",
    "from sklearn.manifold import TSNE\n",
    "import numpy as np\n",
    "matplotlib.use('agg')\n",
    "from matplotlib import pyplot as plt\n",
    "from sklearn.decomposition import PCA\n",
    "from vis.viz import Viz\n",
    "from util.data_loaders import load_ibd_pairs, get_ibd_data\n",
    "from networks.LasagneConv import IBDPairConvAe\n",
    "import logging\n",
    "\n",
    "# 1) Primary AD           10000 or 1\n",
    "# 2) Delayed AD response  01000 or 2\n",
    "# 3) Muon decay           00100 or 3\n",
    "# 4) Flasher              00010 or 4\n",
    "# 5) Other (background noise) 00001 or 5\n",
    "\n",
    "\n",
    "# In[118]:\n",
    "\n",
    "if __name__ == \"__main__\":\n",
    "    args = sys.argv[3:] if 'ipykernel' in sys.argv[0] else sys.argv\n",
    "    epochs = int(args[1]) if len(args) > 1 else 10\n",
    "    #class for networks architecture\n",
    "    cae = IBDPairConvAe(epochs=epochs)\n",
    "    \n",
    "    train, val, test = get_ibd_data(tot_num_pairs=1000,mode=\"normalize\")\n",
    "    \n",
    "    "
   ]
  },
  {
   "cell_type": "code",
   "execution_count": 2,
   "metadata": {
    "collapsed": false
   },
   "outputs": [
    {
     "name": "stdout",
     "output_type": "stream",
     "text": [
      "./results/plots/feat_scatter.png\n"
     ]
    }
   ],
   "source": [
    "    #uses scikit-learn interface (so this trains on X_train)\n",
    "    cae.fit(train)\n",
    "\n",
    "    #extract the hidden layer outputs when running x_val thru autoencoder\n",
    "    feat = cae.extract_layer(val, 'bottleneck')[:, :, 0, 0]\n",
    "    logging.debug('feat.shape = %s', str(feat.shape))\n",
    "    gr_truth = np.ones(val.shape[0])\n",
    "\n",
    "    v = Viz(gr_truth)\n",
    "\n",
    "    # take first two principal components of features, so we can plot easily\n",
    "    #normally we would do t-SNE (but takes too long for quick demo)\n",
    "    x_pc = v.get_pca(feat)\n",
    "\n",
    "    #plot the 2D-projection of the features\n",
    "    v.plot_features(x_pc,save=True)"
   ]
  }
 ],
 "metadata": {
  "kernelspec": {
   "display_name": "Python 2",
   "language": "python",
   "name": "python2"
  },
  "language_info": {
   "codemirror_mode": {
    "name": "ipython",
    "version": 2
   },
   "file_extension": ".py",
   "mimetype": "text/x-python",
   "name": "python",
   "nbconvert_exporter": "python",
   "pygments_lexer": "ipython2",
   "version": "2.7.11"
  }
 },
 "nbformat": 4,
 "nbformat_minor": 0
}
